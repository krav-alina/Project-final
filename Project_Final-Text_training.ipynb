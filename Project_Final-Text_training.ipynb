{
 "cells": [
  {
   "cell_type": "code",
   "execution_count": 4,
   "metadata": {},
   "outputs": [],
   "source": [
    "#загружаем 3 корпуса\n",
    "\n",
    "with open ('Тургенев Иван.  Первая любовь.txt') as file1:\n",
    "    tom = file1.read()\n",
    "with open ('Тургенев Иван. Дворянское гнездо.txt') as file1:\n",
    "    tom1 = file1.read()\n",
    "with open ('Тургенев Иван. Накануне.txt') as file1:\n",
    "    tom2 = file1.read()\n",
    "with open ('Тургенев Иван. Новь.txt') as file1:\n",
    "    tom3 = file1.read()\n",
    "with open ('Тургенев Иван. Повести и рассказы 1853-1857. Ася.txt') as file1:\n",
    "    tom4 = file1.read()\n",
    "with open ('Тургенев Иван. Повести и рассказы 1853-1857. Переписка.txt') as file1:\n",
    "    tom5 = file1.read()\n",
    "with open ('Тургенев Иван. Повести и рассказы 1853-1857. Поездка в Полесье.txt') as file1:\n",
    "    tom6 = file1.read()    \n",
    "with open ('Тургенев Иван. Повести и рассказы 1853-1857. Собственная господская контора.txt') as file1:\n",
    "    tom7 = file1.read()  \n",
    "with open ('Тургенев Иван. Повести и рассказы 1853-1857. Фауст.txt') as file1:\n",
    "    tom8 = file1.read()      \n",
    "with open ('Тургенев Иван. Повести и рассказы 1853-1857. Яков Пасынков.txt') as file1:\n",
    "    tom9 = file1.read()      \n",
    "with open ('Тургенев Иван. Рудин.txt') as file1:\n",
    "    tom10 = file1.read()    \n",
    "with open ('Тургенев Иван. Том 3. Записки охотника - royallib.ru.txt') as file1:\n",
    "    tom11 = file1.read()    \n",
    "with open ('Тургенев. Отцы и Дети .txt') as file1:\n",
    "    tom12 = file1.read()    \n",
    "with open ('Тургенев. Повести и рассказы 1874-1877. Пунин и Бабурин.txt') as file1:\n",
    "    tom13 = file1.read()     \n",
    "with open ('Тургенев. Повести и рассказы 1874-1877. Рассказ отца Алексея.txt') as file1:\n",
    "    tom14 = file1.read()     \n",
    "with open ('Тургенев. Повести и рассказы 1874-1877. Сон.txt') as file1:\n",
    "    tom15 = file1.read()     \n",
    "with open ('Тургенев. Повести и рассказы 1874-1877. Часы.txt') as file1:\n",
    "    tom16 = file1.read()\n",
    "    \n",
    "    \n",
    "with open ('Гу Хуа. В долине лотосов.txt') as file1:\n",
    "    lotos = file1.read()\n",
    "with open (\"Мао Дунь . Весенние шелкопряды - royallib.ru.txt\") as file1:\n",
    "    shelk = file1.read()\n",
    "with open (\"Пу Цзэн. Цветы в море зла - royallib.com.txt\") as file1:\n",
    "    cvety = file1.read() \n",
    "with open (\"Лао Шэ. Записки о Кошачьем городе - royallib.ru.txt\") as file1:\n",
    "    kot = file1.read() \n",
    "with open (\"Лао Шэ. Развод - royallib.ru.txt\") as file1:\n",
    "    razvod = file1.read() \n",
    "with open (\"Лао Шэ. Под пурпурными стягами - royallib.ru.txt\") as file1:\n",
    "    purpur = file1.read() \n",
    "with open (\"Лао Шэ. История Небесного дара - royallib.com.txt\") as file1:\n",
    "    dar = file1.read() \n",
    "\n",
    "    \n",
    "    \n",
    "with open ('Ба Цзинь. Осень - royallib.com.txt') as file1:\n",
    "    bajin1 = file1.read()\n",
    "with open ('Ай У. В огне рождается сталь - royallib.com.txt') as file1:\n",
    "    aiwu = file1.read()\n",
    "with open ('Ба Цзинь. БОЛЬШЕ ПЯТИДЕСЯТИ.txt') as file1:\n",
    "    bajin3 = file1.read()\n",
    "with open ('Ба Цзинь - Семья.txt') as file1:\n",
    "    bajin2 = file1.read()\n",
    "with open ('Ба Цзинь. В Шахте.txt') as file1:\n",
    "    bajin4 = file1.read()    \n",
    "with open ('Ба Цзинь. ГИБЕЛЬ. Повесть.txt') as file1:\n",
    "    bajin5 = file1.read()    \n",
    "with open ('Ба Цзинь. Думы, эссе.txt') as file1:\n",
    "    bajin6 = file1.read()    \n",
    "with open ('Ба Цзинь. МАРСЕЛЬСКИЕ НОЧИ.txt') as file1:\n",
    "    bajin7 = file1.read()\n",
    "with open ('Ба Цзинь. Мона Лиза.txt') as file1:\n",
    "    bajin8 = file1.read()    \n",
    "with open ('Ба Цзинь. ПАГОДА ДОЛГОЛЕТИЯ.txt') as file1:\n",
    "    bajin9 = file1.read()    \n",
    "with open ('Ба Цзинь. ПАДЕНИЕ.txt') as file1:\n",
    "    bajin10 = file1.read()    \n",
    "with open ('Ба Цзинь. СЕРДЦЕ РАБА .txt') as file1:\n",
    "    bajin11 = file1.read()    \n",
    "with open ('Ба Цзинь. Скорбь  Дантона.txt') as file1:\n",
    "    bajin12 = file1.read()   \n",
    "with open ('Ба Цзинь. ТУМАН. Повесть.txt') as file1:\n",
    "    bajin13 = file1.read()\n",
    "with open ('Ба Цзинь. ХОЛОДНАЯ НОЧЬ.Роман.txt') as file1:\n",
    "    bajin14 = file1.read()\n"
   ]
  },
  {
   "cell_type": "code",
   "execution_count": 5,
   "metadata": {},
   "outputs": [
    {
     "name": "stderr",
     "output_type": "stream",
     "text": [
      "[nltk_data] Downloading package punkt to\n",
      "[nltk_data]     C:\\Users\\sidor\\AppData\\Roaming\\nltk_data...\n",
      "[nltk_data]   Package punkt is already up-to-date!\n",
      "[nltk_data] Downloading package stopwords to\n",
      "[nltk_data]     C:\\Users\\sidor\\AppData\\Roaming\\nltk_data...\n",
      "[nltk_data]   Package stopwords is already up-to-date!\n"
     ]
    }
   ],
   "source": [
    "from sklearn.feature_extraction.text import CountVectorizer\n",
    "import nltk\n",
    "from collections import Counter\n",
    "import re\n",
    "import os\n",
    "from nltk.corpus import stopwords\n",
    "from nltk.tokenize import word_tokenize\n",
    "nltk.download('punkt')\n",
    "nltk.download('stopwords')\n",
    "from string import punctuation\n",
    "from pymystem3 import Mystem\n",
    "from pymorphy2 import MorphAnalyzer\n",
    "from collections import Counter\n",
    "import pandas as pd\n",
    "from sklearn.model_selection import train_test_split\n",
    "from sklearn.feature_extraction.text import CountVectorizer\n",
    "from sklearn.naive_bayes import MultinomialNB\n",
    "from sklearn.neighbors import KNeighborsClassifier\n",
    "from sklearn.model_selection import cross_val_score\n",
    "from sklearn.model_selection import GridSearchCV\n",
    "from sklearn.metrics import classification_report\n",
    "from sklearn.metrics import confusion_matrix\n",
    "import seaborn as sns\n",
    "import matplotlib.pyplot as plt\n",
    "%matplotlib inline\n",
    "from sklearn.preprocessing import label_binarize\n",
    "from sklearn.multiclass import OneVsRestClassifier\n",
    "from sklearn.linear_model import LogisticRegression\n",
    "from sklearn import svm, datasets\n",
    "from sklearn.metrics import roc_curve, roc_auc_score\n",
    "from sklearn.feature_extraction.text import TfidfVectorizer"
   ]
  },
  {
   "cell_type": "code",
   "execution_count": 6,
   "metadata": {},
   "outputs": [],
   "source": [
    "mystem = Mystem()\n",
    "morph = MorphAnalyzer()"
   ]
  },
  {
   "cell_type": "code",
   "execution_count": 426,
   "metadata": {},
   "outputs": [],
   "source": [
    "stops = stopwords.words('russian')\n",
    "l = ['цинь', 'дэ-говать', 'юань', 'тина-фа', 'юй-фэнь', 'чжан', 'фу-цюань', 'хэ', 'цзы-сюй', 'чжоу', 'лян', 'цзин-чунь', 'дин', 'чунь-сю', 'чэнь', 'итая', 'госпожа', 'шэнь', 'ван', 'чжан', 'чжао', 'ли-мина', 'чжоу', 'бо-тао', 'чжан', 'би-сю', 'ду', 'дасинь', 'чэнь', 'чжэнь', 'чжан', 'хой-ж', 'сяо', 'шаня', 'чэн', 'цзянь-бин', 'хуан', 'цунуть-жэнить', 'ду', 'дасинить', 'лао', 'шэ', 'чэнь', 'чжэнить', 'лян', 'цзин-чуня', 'чжан', 'вэйцюня', 'цинь', 'дэ-гий', 'мэн', 'сю-ди', 'гао','это','ничто','свой','дарья', 'михайло', 'марья', 'дмитрий', 'павел', 'пётр', 'варвар', 'павло', 'марфа', 'тимофей', 'николай', 'пётр', 'валентин', 'михайло', 'александр', 'павло', 'анна', 'сергей', 'анна', 'василий', 'николай', 'артемий', 'василий', 'иван', 'увар', 'иван', 'парамон', 'семён', 'татьяна', 'борис', 'пантелей', 'еремей', 'аркадий', 'павлыч', 'фёдор', 'иван', 'евгений', 'василья', 'арин', 'власий', 'наталья', 'алексей', 'андрей', 'пётр', 'мардарий', 'аполлон', 'вера', 'николай', 'марья', 'александр', 'софья', 'николай']\n",
    "stops.extend(l)"
   ]
  },
  {
   "cell_type": "code",
   "execution_count": 5,
   "metadata": {},
   "outputs": [],
   "source": [
    "def ngrammer(tokens, n=10):\n",
    "    ngrams = []\n",
    "    for i in range(0,len(tokens)-n+1):\n",
    "        ngrams.append(' '.join(tokens[i:i+n]))\n",
    "    return ngrams"
   ]
  },
  {
   "cell_type": "code",
   "execution_count": 7,
   "metadata": {},
   "outputs": [],
   "source": [
    "#убираем знаки препинания и приводим к нижнему регистру\n",
    "def normalize(text):\n",
    "    punct = \",—»«][.…!?-:)(\"\n",
    "    clean1 = [morph.parse(word.strip(punct))[0].normal_form for word in text.lower().split()]\n",
    "    n = 1545\n",
    "    split_text = [clean1[i:i+n] for i in range(0,len(clean1),n)]\n",
    "    joined_text = [\" \".join(i) for i in split_text]\n",
    "    text_series = pd.Series(joined_text)\n",
    "    text_df = pd.DataFrame(text_series)\n",
    "    return text_df"
   ]
  },
  {
   "cell_type": "code",
   "execution_count": 8,
   "metadata": {},
   "outputs": [],
   "source": [
    "normalized_cvety = normalize(cvety)"
   ]
  },
  {
   "cell_type": "code",
   "execution_count": 9,
   "metadata": {},
   "outputs": [],
   "source": [
    "normalized_shelk = normalize(shelk)"
   ]
  },
  {
   "cell_type": "code",
   "execution_count": 10,
   "metadata": {},
   "outputs": [],
   "source": [
    "normalized_lotos = normalize(lotos)"
   ]
  },
  {
   "cell_type": "code",
   "execution_count": 11,
   "metadata": {},
   "outputs": [],
   "source": [
    "normalized_kot = normalize(kot)"
   ]
  },
  {
   "cell_type": "code",
   "execution_count": 12,
   "metadata": {},
   "outputs": [],
   "source": [
    "normalized_razvod = normalize(razvod)"
   ]
  },
  {
   "cell_type": "code",
   "execution_count": 13,
   "metadata": {},
   "outputs": [],
   "source": [
    "normalized_purpur = normalize(purpur)"
   ]
  },
  {
   "cell_type": "code",
   "execution_count": 14,
   "metadata": {},
   "outputs": [],
   "source": [
    "normalized_dar = normalize(dar)"
   ]
  },
  {
   "cell_type": "code",
   "execution_count": 15,
   "metadata": {},
   "outputs": [],
   "source": [
    "df_list_kitaycy = [normalized_cvety,normalized_shelk,normalized_lotos,normalized_kot,normalized_razvod,normalized_purpur, normalized_dar]"
   ]
  },
  {
   "cell_type": "code",
   "execution_count": 16,
   "metadata": {},
   "outputs": [],
   "source": [
    "a = normalize(aiwu)"
   ]
  },
  {
   "cell_type": "code",
   "execution_count": 17,
   "metadata": {},
   "outputs": [],
   "source": [
    "b = normalize(bajin1)"
   ]
  },
  {
   "cell_type": "code",
   "execution_count": 18,
   "metadata": {},
   "outputs": [],
   "source": [
    "c = normalize(bajin2)"
   ]
  },
  {
   "cell_type": "code",
   "execution_count": 19,
   "metadata": {},
   "outputs": [],
   "source": [
    "d = normalize(bajin3)"
   ]
  },
  {
   "cell_type": "code",
   "execution_count": 20,
   "metadata": {},
   "outputs": [],
   "source": [
    "e = normalize(bajin4)"
   ]
  },
  {
   "cell_type": "code",
   "execution_count": 21,
   "metadata": {},
   "outputs": [],
   "source": [
    "f = normalize(bajin5)"
   ]
  },
  {
   "cell_type": "code",
   "execution_count": 22,
   "metadata": {},
   "outputs": [],
   "source": [
    "g = normalize(bajin6)"
   ]
  },
  {
   "cell_type": "code",
   "execution_count": 23,
   "metadata": {},
   "outputs": [],
   "source": [
    "h = normalize(bajin7)"
   ]
  },
  {
   "cell_type": "code",
   "execution_count": 24,
   "metadata": {},
   "outputs": [],
   "source": [
    "i = normalize(bajin8)"
   ]
  },
  {
   "cell_type": "code",
   "execution_count": 25,
   "metadata": {},
   "outputs": [],
   "source": [
    "j = normalize(bajin9)"
   ]
  },
  {
   "cell_type": "code",
   "execution_count": 26,
   "metadata": {},
   "outputs": [],
   "source": [
    "k = normalize(bajin10)"
   ]
  },
  {
   "cell_type": "code",
   "execution_count": 27,
   "metadata": {},
   "outputs": [],
   "source": [
    "l = normalize(bajin11)"
   ]
  },
  {
   "cell_type": "code",
   "execution_count": 28,
   "metadata": {},
   "outputs": [],
   "source": [
    "m = normalize(bajin12)"
   ]
  },
  {
   "cell_type": "code",
   "execution_count": 29,
   "metadata": {},
   "outputs": [],
   "source": [
    "n = normalize(bajin13)"
   ]
  },
  {
   "cell_type": "code",
   "execution_count": 30,
   "metadata": {},
   "outputs": [],
   "source": [
    "o = normalize(bajin14)"
   ]
  },
  {
   "cell_type": "code",
   "execution_count": 31,
   "metadata": {},
   "outputs": [],
   "source": [
    "df_list_turgenevcy = [a,b,c,d,e,f,g,h,i,g,k,l,m,n,o]"
   ]
  },
  {
   "cell_type": "code",
   "execution_count": 32,
   "metadata": {},
   "outputs": [],
   "source": [
    "text0 = normalize(tom)"
   ]
  },
  {
   "cell_type": "code",
   "execution_count": 33,
   "metadata": {},
   "outputs": [],
   "source": [
    "text1 = normalize(tom1)"
   ]
  },
  {
   "cell_type": "code",
   "execution_count": 34,
   "metadata": {},
   "outputs": [],
   "source": [
    "text2 = normalize(tom2)"
   ]
  },
  {
   "cell_type": "code",
   "execution_count": 35,
   "metadata": {},
   "outputs": [],
   "source": [
    "text3 = normalize(tom3)"
   ]
  },
  {
   "cell_type": "code",
   "execution_count": 36,
   "metadata": {},
   "outputs": [],
   "source": [
    "text4 = normalize(tom4)"
   ]
  },
  {
   "cell_type": "code",
   "execution_count": 37,
   "metadata": {},
   "outputs": [],
   "source": [
    "text5 = normalize(tom5)"
   ]
  },
  {
   "cell_type": "code",
   "execution_count": 38,
   "metadata": {},
   "outputs": [],
   "source": [
    "text6 = normalize(tom6)"
   ]
  },
  {
   "cell_type": "code",
   "execution_count": 39,
   "metadata": {},
   "outputs": [],
   "source": [
    "text7 = normalize(tom7)"
   ]
  },
  {
   "cell_type": "code",
   "execution_count": 40,
   "metadata": {},
   "outputs": [],
   "source": [
    "text8 = normalize(tom8)"
   ]
  },
  {
   "cell_type": "code",
   "execution_count": 41,
   "metadata": {},
   "outputs": [],
   "source": [
    "text9 = normalize(tom9)"
   ]
  },
  {
   "cell_type": "code",
   "execution_count": 42,
   "metadata": {},
   "outputs": [],
   "source": [
    "text10 = normalize(tom10)"
   ]
  },
  {
   "cell_type": "code",
   "execution_count": 43,
   "metadata": {},
   "outputs": [],
   "source": [
    "text11 = normalize(tom11)"
   ]
  },
  {
   "cell_type": "code",
   "execution_count": 44,
   "metadata": {},
   "outputs": [],
   "source": [
    "text12 = normalize(tom12)"
   ]
  },
  {
   "cell_type": "code",
   "execution_count": 45,
   "metadata": {},
   "outputs": [],
   "source": [
    "text13 = normalize(tom13)"
   ]
  },
  {
   "cell_type": "code",
   "execution_count": 46,
   "metadata": {},
   "outputs": [],
   "source": [
    "text14 = normalize(tom14)"
   ]
  },
  {
   "cell_type": "code",
   "execution_count": 47,
   "metadata": {},
   "outputs": [],
   "source": [
    "text15 = normalize(tom15)"
   ]
  },
  {
   "cell_type": "code",
   "execution_count": 48,
   "metadata": {},
   "outputs": [],
   "source": [
    "text16 = normalize(tom16)"
   ]
  },
  {
   "cell_type": "code",
   "execution_count": 49,
   "metadata": {},
   "outputs": [],
   "source": [
    "df_list_turgenev = [text0,text1,text2,text3,text4,text5,text6,text7,text8,text9,text10,text11,text12,text13,text14,text15,text16]"
   ]
  },
  {
   "cell_type": "code",
   "execution_count": 50,
   "metadata": {},
   "outputs": [
    {
     "data": {
      "text/html": [
       "<div>\n",
       "<style scoped>\n",
       "    .dataframe tbody tr th:only-of-type {\n",
       "        vertical-align: middle;\n",
       "    }\n",
       "\n",
       "    .dataframe tbody tr th {\n",
       "        vertical-align: top;\n",
       "    }\n",
       "\n",
       "    .dataframe thead th {\n",
       "        text-align: right;\n",
       "    }\n",
       "</style>\n",
       "<table border=\"1\" class=\"dataframe\">\n",
       "  <thead>\n",
       "    <tr style=\"text-align: right;\">\n",
       "      <th></th>\n",
       "      <th>0</th>\n",
       "    </tr>\n",
       "  </thead>\n",
       "  <tbody>\n",
       "    <tr>\n",
       "      <th>0</th>\n",
       "      <td>цвета в мор зло цвета в мор зло роман глава од...</td>\n",
       "    </tr>\n",
       "    <tr>\n",
       "      <th>1</th>\n",
       "      <td>что с время весь это стереться из память решит...</td>\n",
       "    </tr>\n",
       "    <tr>\n",
       "      <th>2</th>\n",
       "      <td>жэньсян кивнуть  ещё рано цянить дуаньминь не ...</td>\n",
       "    </tr>\n",
       "    <tr>\n",
       "      <th>3</th>\n",
       "      <td>паланкин распрощаться с свой собеседник и уеха...</td>\n",
       "    </tr>\n",
       "    <tr>\n",
       "      <th>4</th>\n",
       "      <td>на что-то рассчитывать цзинь настолько углубит...</td>\n",
       "    </tr>\n",
       "    <tr>\n",
       "      <th>...</th>\n",
       "      <td>...</td>\n",
       "    </tr>\n",
       "    <tr>\n",
       "      <th>275</th>\n",
       "      <td>продать или заложить этот дом на похороны нужн...</td>\n",
       "    </tr>\n",
       "    <tr>\n",
       "      <th>276</th>\n",
       "      <td>побежалый на кухня там весь быть целый кроме д...</td>\n",
       "    </tr>\n",
       "    <tr>\n",
       "      <th>277</th>\n",
       "      <td>тигр некогда быть смотреть на сосед он спешить...</td>\n",
       "    </tr>\n",
       "    <tr>\n",
       "      <th>278</th>\n",
       "      <td>что-нибудь цзи  промолвить небесный дар собира...</td>\n",
       "    </tr>\n",
       "    <tr>\n",
       "      <th>279</th>\n",
       "      <td>и для лавка достаточно а ты когда захотеть тог...</td>\n",
       "    </tr>\n",
       "  </tbody>\n",
       "</table>\n",
       "<p>280 rows × 1 columns</p>\n",
       "</div>"
      ],
      "text/plain": [
       "                                                     0\n",
       "0    цвета в мор зло цвета в мор зло роман глава од...\n",
       "1    что с время весь это стереться из память решит...\n",
       "2    жэньсян кивнуть  ещё рано цянить дуаньминь не ...\n",
       "3    паланкин распрощаться с свой собеседник и уеха...\n",
       "4    на что-то рассчитывать цзинь настолько углубит...\n",
       "..                                                 ...\n",
       "275  продать или заложить этот дом на похороны нужн...\n",
       "276  побежалый на кухня там весь быть целый кроме д...\n",
       "277  тигр некогда быть смотреть на сосед он спешить...\n",
       "278  что-нибудь цзи  промолвить небесный дар собира...\n",
       "279  и для лавка достаточно а ты когда захотеть тог...\n",
       "\n",
       "[280 rows x 1 columns]"
      ]
     },
     "execution_count": 50,
     "metadata": {},
     "output_type": "execute_result"
    }
   ],
   "source": [
    "kitaycy_df = pd.concat(df_list_kitaycy,ignore_index=True)\n",
    "kitaycy_df"
   ]
  },
  {
   "cell_type": "code",
   "execution_count": 51,
   "metadata": {},
   "outputs": [
    {
     "data": {
      "text/html": [
       "<div>\n",
       "<style scoped>\n",
       "    .dataframe tbody tr th:only-of-type {\n",
       "        vertical-align: middle;\n",
       "    }\n",
       "\n",
       "    .dataframe tbody tr th {\n",
       "        vertical-align: top;\n",
       "    }\n",
       "\n",
       "    .dataframe thead th {\n",
       "        text-align: right;\n",
       "    }\n",
       "</style>\n",
       "<table border=\"1\" class=\"dataframe\">\n",
       "  <thead>\n",
       "    <tr style=\"text-align: right;\">\n",
       "      <th></th>\n",
       "      <th>text</th>\n",
       "      <th>corpus_name</th>\n",
       "    </tr>\n",
       "  </thead>\n",
       "  <tbody>\n",
       "    <tr>\n",
       "      <th>0</th>\n",
       "      <td>цвета в мор зло цвета в мор зло роман глава од...</td>\n",
       "      <td>kitaycy</td>\n",
       "    </tr>\n",
       "    <tr>\n",
       "      <th>1</th>\n",
       "      <td>что с время весь это стереться из память решит...</td>\n",
       "      <td>kitaycy</td>\n",
       "    </tr>\n",
       "    <tr>\n",
       "      <th>2</th>\n",
       "      <td>жэньсян кивнуть  ещё рано цянить дуаньминь не ...</td>\n",
       "      <td>kitaycy</td>\n",
       "    </tr>\n",
       "    <tr>\n",
       "      <th>3</th>\n",
       "      <td>паланкин распрощаться с свой собеседник и уеха...</td>\n",
       "      <td>kitaycy</td>\n",
       "    </tr>\n",
       "    <tr>\n",
       "      <th>4</th>\n",
       "      <td>на что-то рассчитывать цзинь настолько углубит...</td>\n",
       "      <td>kitaycy</td>\n",
       "    </tr>\n",
       "    <tr>\n",
       "      <th>...</th>\n",
       "      <td>...</td>\n",
       "      <td>...</td>\n",
       "    </tr>\n",
       "    <tr>\n",
       "      <th>275</th>\n",
       "      <td>продать или заложить этот дом на похороны нужн...</td>\n",
       "      <td>kitaycy</td>\n",
       "    </tr>\n",
       "    <tr>\n",
       "      <th>276</th>\n",
       "      <td>побежалый на кухня там весь быть целый кроме д...</td>\n",
       "      <td>kitaycy</td>\n",
       "    </tr>\n",
       "    <tr>\n",
       "      <th>277</th>\n",
       "      <td>тигр некогда быть смотреть на сосед он спешить...</td>\n",
       "      <td>kitaycy</td>\n",
       "    </tr>\n",
       "    <tr>\n",
       "      <th>278</th>\n",
       "      <td>что-нибудь цзи  промолвить небесный дар собира...</td>\n",
       "      <td>kitaycy</td>\n",
       "    </tr>\n",
       "    <tr>\n",
       "      <th>279</th>\n",
       "      <td>и для лавка достаточно а ты когда захотеть тог...</td>\n",
       "      <td>kitaycy</td>\n",
       "    </tr>\n",
       "  </tbody>\n",
       "</table>\n",
       "<p>280 rows × 2 columns</p>\n",
       "</div>"
      ],
      "text/plain": [
       "                                                  text corpus_name\n",
       "0    цвета в мор зло цвета в мор зло роман глава од...     kitaycy\n",
       "1    что с время весь это стереться из память решит...     kitaycy\n",
       "2    жэньсян кивнуть  ещё рано цянить дуаньминь не ...     kitaycy\n",
       "3    паланкин распрощаться с свой собеседник и уеха...     kitaycy\n",
       "4    на что-то рассчитывать цзинь настолько углубит...     kitaycy\n",
       "..                                                 ...         ...\n",
       "275  продать или заложить этот дом на похороны нужн...     kitaycy\n",
       "276  побежалый на кухня там весь быть целый кроме д...     kitaycy\n",
       "277  тигр некогда быть смотреть на сосед он спешить...     kitaycy\n",
       "278  что-нибудь цзи  промолвить небесный дар собира...     kitaycy\n",
       "279  и для лавка достаточно а ты когда захотеть тог...     kitaycy\n",
       "\n",
       "[280 rows x 2 columns]"
      ]
     },
     "execution_count": 51,
     "metadata": {},
     "output_type": "execute_result"
    }
   ],
   "source": [
    "kitaycy_df['corpus_name'] = pd.Series(['kitaycy' for x in range(len(kitaycy_df.index))])\n",
    "kitaycy_df.columns = ['text','corpus_name']\n",
    "kitaycy_df"
   ]
  },
  {
   "cell_type": "code",
   "execution_count": 52,
   "metadata": {},
   "outputs": [
    {
     "data": {
      "text/html": [
       "<div>\n",
       "<style scoped>\n",
       "    .dataframe tbody tr th:only-of-type {\n",
       "        vertical-align: middle;\n",
       "    }\n",
       "\n",
       "    .dataframe tbody tr th {\n",
       "        vertical-align: top;\n",
       "    }\n",
       "\n",
       "    .dataframe thead th {\n",
       "        text-align: right;\n",
       "    }\n",
       "</style>\n",
       "<table border=\"1\" class=\"dataframe\">\n",
       "  <thead>\n",
       "    <tr style=\"text-align: right;\">\n",
       "      <th></th>\n",
       "      <th>0</th>\n",
       "    </tr>\n",
       "  </thead>\n",
       "  <tbody>\n",
       "    <tr>\n",
       "      <th>0</th>\n",
       "      <td>в огонь рождаться сталь глава один 1 лян цзин-...</td>\n",
       "    </tr>\n",
       "    <tr>\n",
       "      <th>1</th>\n",
       "      <td>брюки с брезентовый рукавица на рука голова он...</td>\n",
       "    </tr>\n",
       "    <tr>\n",
       "      <th>2</th>\n",
       "      <td>испугаться они  весело спросить юноша лю кэ-ев...</td>\n",
       "    </tr>\n",
       "    <tr>\n",
       "      <th>3</th>\n",
       "      <td>цинь дэ-говать директор  течь свод печь  ответ...</td>\n",
       "    </tr>\n",
       "    <tr>\n",
       "      <th>4</th>\n",
       "      <td>мягкий продолжать  старина ли ты понять ведь т...</td>\n",
       "    </tr>\n",
       "    <tr>\n",
       "      <th>...</th>\n",
       "      <td>...</td>\n",
       "    </tr>\n",
       "    <tr>\n",
       "      <th>375</th>\n",
       "      <td>стараться не раскашляться но напрасно от натуг...</td>\n",
       "    </tr>\n",
       "    <tr>\n",
       "      <th>376</th>\n",
       "      <td>что за человек да и письмо-то как следовать на...</td>\n",
       "    </tr>\n",
       "    <tr>\n",
       "      <th>377</th>\n",
       "      <td>он но вслух не посметь бы произнести ничто под...</td>\n",
       "    </tr>\n",
       "    <tr>\n",
       "      <th>378</th>\n",
       "      <td>умереть не умереть пришлый победа нельзя умира...</td>\n",
       "    </tr>\n",
       "    <tr>\n",
       "      <th>379</th>\n",
       "      <td>сразу побелить стена и через день перебраться ...</td>\n",
       "    </tr>\n",
       "  </tbody>\n",
       "</table>\n",
       "<p>380 rows × 1 columns</p>\n",
       "</div>"
      ],
      "text/plain": [
       "                                                     0\n",
       "0    в огонь рождаться сталь глава один 1 лян цзин-...\n",
       "1    брюки с брезентовый рукавица на рука голова он...\n",
       "2    испугаться они  весело спросить юноша лю кэ-ев...\n",
       "3    цинь дэ-говать директор  течь свод печь  ответ...\n",
       "4    мягкий продолжать  старина ли ты понять ведь т...\n",
       "..                                                 ...\n",
       "375  стараться не раскашляться но напрасно от натуг...\n",
       "376  что за человек да и письмо-то как следовать на...\n",
       "377  он но вслух не посметь бы произнести ничто под...\n",
       "378  умереть не умереть пришлый победа нельзя умира...\n",
       "379  сразу побелить стена и через день перебраться ...\n",
       "\n",
       "[380 rows x 1 columns]"
      ]
     },
     "execution_count": 52,
     "metadata": {},
     "output_type": "execute_result"
    }
   ],
   "source": [
    "turgenevcy_df = pd.concat(df_list_turgenevcy,ignore_index=True)\n",
    "turgenevcy_df"
   ]
  },
  {
   "cell_type": "code",
   "execution_count": 53,
   "metadata": {},
   "outputs": [
    {
     "data": {
      "text/html": [
       "<div>\n",
       "<style scoped>\n",
       "    .dataframe tbody tr th:only-of-type {\n",
       "        vertical-align: middle;\n",
       "    }\n",
       "\n",
       "    .dataframe tbody tr th {\n",
       "        vertical-align: top;\n",
       "    }\n",
       "\n",
       "    .dataframe thead th {\n",
       "        text-align: right;\n",
       "    }\n",
       "</style>\n",
       "<table border=\"1\" class=\"dataframe\">\n",
       "  <thead>\n",
       "    <tr style=\"text-align: right;\">\n",
       "      <th></th>\n",
       "      <th>text</th>\n",
       "      <th>corpus_name</th>\n",
       "    </tr>\n",
       "  </thead>\n",
       "  <tbody>\n",
       "    <tr>\n",
       "      <th>0</th>\n",
       "      <td>в огонь рождаться сталь глава один 1 лян цзин-...</td>\n",
       "      <td>turgenevcy</td>\n",
       "    </tr>\n",
       "    <tr>\n",
       "      <th>1</th>\n",
       "      <td>брюки с брезентовый рукавица на рука голова он...</td>\n",
       "      <td>turgenevcy</td>\n",
       "    </tr>\n",
       "    <tr>\n",
       "      <th>2</th>\n",
       "      <td>испугаться они  весело спросить юноша лю кэ-ев...</td>\n",
       "      <td>turgenevcy</td>\n",
       "    </tr>\n",
       "    <tr>\n",
       "      <th>3</th>\n",
       "      <td>цинь дэ-говать директор  течь свод печь  ответ...</td>\n",
       "      <td>turgenevcy</td>\n",
       "    </tr>\n",
       "    <tr>\n",
       "      <th>4</th>\n",
       "      <td>мягкий продолжать  старина ли ты понять ведь т...</td>\n",
       "      <td>turgenevcy</td>\n",
       "    </tr>\n",
       "    <tr>\n",
       "      <th>...</th>\n",
       "      <td>...</td>\n",
       "      <td>...</td>\n",
       "    </tr>\n",
       "    <tr>\n",
       "      <th>375</th>\n",
       "      <td>стараться не раскашляться но напрасно от натуг...</td>\n",
       "      <td>turgenevcy</td>\n",
       "    </tr>\n",
       "    <tr>\n",
       "      <th>376</th>\n",
       "      <td>что за человек да и письмо-то как следовать на...</td>\n",
       "      <td>turgenevcy</td>\n",
       "    </tr>\n",
       "    <tr>\n",
       "      <th>377</th>\n",
       "      <td>он но вслух не посметь бы произнести ничто под...</td>\n",
       "      <td>turgenevcy</td>\n",
       "    </tr>\n",
       "    <tr>\n",
       "      <th>378</th>\n",
       "      <td>умереть не умереть пришлый победа нельзя умира...</td>\n",
       "      <td>turgenevcy</td>\n",
       "    </tr>\n",
       "    <tr>\n",
       "      <th>379</th>\n",
       "      <td>сразу побелить стена и через день перебраться ...</td>\n",
       "      <td>turgenevcy</td>\n",
       "    </tr>\n",
       "  </tbody>\n",
       "</table>\n",
       "<p>380 rows × 2 columns</p>\n",
       "</div>"
      ],
      "text/plain": [
       "                                                  text corpus_name\n",
       "0    в огонь рождаться сталь глава один 1 лян цзин-...  turgenevcy\n",
       "1    брюки с брезентовый рукавица на рука голова он...  turgenevcy\n",
       "2    испугаться они  весело спросить юноша лю кэ-ев...  turgenevcy\n",
       "3    цинь дэ-говать директор  течь свод печь  ответ...  turgenevcy\n",
       "4    мягкий продолжать  старина ли ты понять ведь т...  turgenevcy\n",
       "..                                                 ...         ...\n",
       "375  стараться не раскашляться но напрасно от натуг...  turgenevcy\n",
       "376  что за человек да и письмо-то как следовать на...  turgenevcy\n",
       "377  он но вслух не посметь бы произнести ничто под...  turgenevcy\n",
       "378  умереть не умереть пришлый победа нельзя умира...  turgenevcy\n",
       "379  сразу побелить стена и через день перебраться ...  turgenevcy\n",
       "\n",
       "[380 rows x 2 columns]"
      ]
     },
     "execution_count": 53,
     "metadata": {},
     "output_type": "execute_result"
    }
   ],
   "source": [
    "turgenevcy_df['corpus_name'] = pd.Series(['turgenevcy' for x in range(len(turgenevcy_df.index))])\n",
    "turgenevcy_df.columns = ['text','corpus_name']\n",
    "turgenevcy_df"
   ]
  },
  {
   "cell_type": "code",
   "execution_count": 54,
   "metadata": {},
   "outputs": [
    {
     "data": {
      "text/html": [
       "<div>\n",
       "<style scoped>\n",
       "    .dataframe tbody tr th:only-of-type {\n",
       "        vertical-align: middle;\n",
       "    }\n",
       "\n",
       "    .dataframe tbody tr th {\n",
       "        vertical-align: top;\n",
       "    }\n",
       "\n",
       "    .dataframe thead th {\n",
       "        text-align: right;\n",
       "    }\n",
       "</style>\n",
       "<table border=\"1\" class=\"dataframe\">\n",
       "  <thead>\n",
       "    <tr style=\"text-align: right;\">\n",
       "      <th></th>\n",
       "      <th>0</th>\n",
       "    </tr>\n",
       "  </thead>\n",
       "  <tbody>\n",
       "    <tr>\n",
       "      <th>0</th>\n",
       "      <td>один любовь посвятить плата в анненков гость д...</td>\n",
       "    </tr>\n",
       "    <tr>\n",
       "      <th>1</th>\n",
       "      <td>я но пока я волноваться и строить различный пл...</td>\n",
       "    </tr>\n",
       "    <tr>\n",
       "      <th>2</th>\n",
       "      <td>белокурый и курчавый молодец гусар с румяный л...</td>\n",
       "    </tr>\n",
       "    <tr>\n",
       "      <th>3</th>\n",
       "      <td>гостиный раздаваться весёлый голос я отворить ...</td>\n",
       "    </tr>\n",
       "    <tr>\n",
       "      <th>4</th>\n",
       "      <td>я утро стать заниматься; алый пятно выступить ...</td>\n",
       "    </tr>\n",
       "    <tr>\n",
       "      <th>...</th>\n",
       "      <td>...</td>\n",
       "    </tr>\n",
       "    <tr>\n",
       "      <th>324</th>\n",
       "      <td>обед варить либо плакать один из два  как обед...</td>\n",
       "    </tr>\n",
       "    <tr>\n",
       "      <th>325</th>\n",
       "      <td>сад отыскать наметить место под яблоня принять...</td>\n",
       "    </tr>\n",
       "    <tr>\n",
       "      <th>326</th>\n",
       "      <td>вот ещё не поднести ли они латкин  нет  ответи...</td>\n",
       "    </tr>\n",
       "    <tr>\n",
       "      <th>327</th>\n",
       "      <td>ещё слабый голос губа у он быть синий и весь о...</td>\n",
       "    </tr>\n",
       "    <tr>\n",
       "      <th>328</th>\n",
       "      <td>знать нечто необыкновенный пресечь в этот миг ...</td>\n",
       "    </tr>\n",
       "  </tbody>\n",
       "</table>\n",
       "<p>329 rows × 1 columns</p>\n",
       "</div>"
      ],
      "text/plain": [
       "                                                     0\n",
       "0    один любовь посвятить плата в анненков гость д...\n",
       "1    я но пока я волноваться и строить различный пл...\n",
       "2    белокурый и курчавый молодец гусар с румяный л...\n",
       "3    гостиный раздаваться весёлый голос я отворить ...\n",
       "4    я утро стать заниматься; алый пятно выступить ...\n",
       "..                                                 ...\n",
       "324  обед варить либо плакать один из два  как обед...\n",
       "325  сад отыскать наметить место под яблоня принять...\n",
       "326  вот ещё не поднести ли они латкин  нет  ответи...\n",
       "327  ещё слабый голос губа у он быть синий и весь о...\n",
       "328  знать нечто необыкновенный пресечь в этот миг ...\n",
       "\n",
       "[329 rows x 1 columns]"
      ]
     },
     "execution_count": 54,
     "metadata": {},
     "output_type": "execute_result"
    }
   ],
   "source": [
    "turgenev_df = pd.concat(df_list_turgenev,ignore_index=True)\n",
    "turgenev_df"
   ]
  },
  {
   "cell_type": "code",
   "execution_count": 55,
   "metadata": {},
   "outputs": [
    {
     "data": {
      "text/html": [
       "<div>\n",
       "<style scoped>\n",
       "    .dataframe tbody tr th:only-of-type {\n",
       "        vertical-align: middle;\n",
       "    }\n",
       "\n",
       "    .dataframe tbody tr th {\n",
       "        vertical-align: top;\n",
       "    }\n",
       "\n",
       "    .dataframe thead th {\n",
       "        text-align: right;\n",
       "    }\n",
       "</style>\n",
       "<table border=\"1\" class=\"dataframe\">\n",
       "  <thead>\n",
       "    <tr style=\"text-align: right;\">\n",
       "      <th></th>\n",
       "      <th>text</th>\n",
       "      <th>corpus_name</th>\n",
       "    </tr>\n",
       "  </thead>\n",
       "  <tbody>\n",
       "    <tr>\n",
       "      <th>0</th>\n",
       "      <td>один любовь посвятить плата в анненков гость д...</td>\n",
       "      <td>turgenev</td>\n",
       "    </tr>\n",
       "    <tr>\n",
       "      <th>1</th>\n",
       "      <td>я но пока я волноваться и строить различный пл...</td>\n",
       "      <td>turgenev</td>\n",
       "    </tr>\n",
       "    <tr>\n",
       "      <th>2</th>\n",
       "      <td>белокурый и курчавый молодец гусар с румяный л...</td>\n",
       "      <td>turgenev</td>\n",
       "    </tr>\n",
       "    <tr>\n",
       "      <th>3</th>\n",
       "      <td>гостиный раздаваться весёлый голос я отворить ...</td>\n",
       "      <td>turgenev</td>\n",
       "    </tr>\n",
       "    <tr>\n",
       "      <th>4</th>\n",
       "      <td>я утро стать заниматься; алый пятно выступить ...</td>\n",
       "      <td>turgenev</td>\n",
       "    </tr>\n",
       "    <tr>\n",
       "      <th>...</th>\n",
       "      <td>...</td>\n",
       "      <td>...</td>\n",
       "    </tr>\n",
       "    <tr>\n",
       "      <th>324</th>\n",
       "      <td>обед варить либо плакать один из два  как обед...</td>\n",
       "      <td>turgenev</td>\n",
       "    </tr>\n",
       "    <tr>\n",
       "      <th>325</th>\n",
       "      <td>сад отыскать наметить место под яблоня принять...</td>\n",
       "      <td>turgenev</td>\n",
       "    </tr>\n",
       "    <tr>\n",
       "      <th>326</th>\n",
       "      <td>вот ещё не поднести ли они латкин  нет  ответи...</td>\n",
       "      <td>turgenev</td>\n",
       "    </tr>\n",
       "    <tr>\n",
       "      <th>327</th>\n",
       "      <td>ещё слабый голос губа у он быть синий и весь о...</td>\n",
       "      <td>turgenev</td>\n",
       "    </tr>\n",
       "    <tr>\n",
       "      <th>328</th>\n",
       "      <td>знать нечто необыкновенный пресечь в этот миг ...</td>\n",
       "      <td>turgenev</td>\n",
       "    </tr>\n",
       "  </tbody>\n",
       "</table>\n",
       "<p>329 rows × 2 columns</p>\n",
       "</div>"
      ],
      "text/plain": [
       "                                                  text corpus_name\n",
       "0    один любовь посвятить плата в анненков гость д...    turgenev\n",
       "1    я но пока я волноваться и строить различный пл...    turgenev\n",
       "2    белокурый и курчавый молодец гусар с румяный л...    turgenev\n",
       "3    гостиный раздаваться весёлый голос я отворить ...    turgenev\n",
       "4    я утро стать заниматься; алый пятно выступить ...    turgenev\n",
       "..                                                 ...         ...\n",
       "324  обед варить либо плакать один из два  как обед...    turgenev\n",
       "325  сад отыскать наметить место под яблоня принять...    turgenev\n",
       "326  вот ещё не поднести ли они латкин  нет  ответи...    turgenev\n",
       "327  ещё слабый голос губа у он быть синий и весь о...    turgenev\n",
       "328  знать нечто необыкновенный пресечь в этот миг ...    turgenev\n",
       "\n",
       "[329 rows x 2 columns]"
      ]
     },
     "execution_count": 55,
     "metadata": {},
     "output_type": "execute_result"
    }
   ],
   "source": [
    "#заполняем каждую полученную строку необходимым маркером - названием корпуса\n",
    "turgenev_df['corpus_name'] = pd.Series(['turgenev' for x in range(len(turgenev_df.index))])\n",
    "turgenev_df.columns = ['text','corpus_name']\n",
    "turgenev_df"
   ]
  },
  {
   "cell_type": "code",
   "execution_count": 56,
   "metadata": {},
   "outputs": [],
   "source": [
    "df_all_list = [kitaycy_df,turgenev_df,turgenevcy_df]"
   ]
  },
  {
   "cell_type": "code",
   "execution_count": 57,
   "metadata": {},
   "outputs": [
    {
     "data": {
      "text/html": [
       "<div>\n",
       "<style scoped>\n",
       "    .dataframe tbody tr th:only-of-type {\n",
       "        vertical-align: middle;\n",
       "    }\n",
       "\n",
       "    .dataframe tbody tr th {\n",
       "        vertical-align: top;\n",
       "    }\n",
       "\n",
       "    .dataframe thead th {\n",
       "        text-align: right;\n",
       "    }\n",
       "</style>\n",
       "<table border=\"1\" class=\"dataframe\">\n",
       "  <thead>\n",
       "    <tr style=\"text-align: right;\">\n",
       "      <th></th>\n",
       "      <th>text</th>\n",
       "      <th>corpus_name</th>\n",
       "    </tr>\n",
       "  </thead>\n",
       "  <tbody>\n",
       "    <tr>\n",
       "      <th>0</th>\n",
       "      <td>цвета в мор зло цвета в мор зло роман глава од...</td>\n",
       "      <td>kitaycy</td>\n",
       "    </tr>\n",
       "    <tr>\n",
       "      <th>1</th>\n",
       "      <td>что с время весь это стереться из память решит...</td>\n",
       "      <td>kitaycy</td>\n",
       "    </tr>\n",
       "    <tr>\n",
       "      <th>2</th>\n",
       "      <td>жэньсян кивнуть  ещё рано цянить дуаньминь не ...</td>\n",
       "      <td>kitaycy</td>\n",
       "    </tr>\n",
       "    <tr>\n",
       "      <th>3</th>\n",
       "      <td>паланкин распрощаться с свой собеседник и уеха...</td>\n",
       "      <td>kitaycy</td>\n",
       "    </tr>\n",
       "    <tr>\n",
       "      <th>4</th>\n",
       "      <td>на что-то рассчитывать цзинь настолько углубит...</td>\n",
       "      <td>kitaycy</td>\n",
       "    </tr>\n",
       "    <tr>\n",
       "      <th>...</th>\n",
       "      <td>...</td>\n",
       "      <td>...</td>\n",
       "    </tr>\n",
       "    <tr>\n",
       "      <th>984</th>\n",
       "      <td>стараться не раскашляться но напрасно от натуг...</td>\n",
       "      <td>turgenevcy</td>\n",
       "    </tr>\n",
       "    <tr>\n",
       "      <th>985</th>\n",
       "      <td>что за человек да и письмо-то как следовать на...</td>\n",
       "      <td>turgenevcy</td>\n",
       "    </tr>\n",
       "    <tr>\n",
       "      <th>986</th>\n",
       "      <td>он но вслух не посметь бы произнести ничто под...</td>\n",
       "      <td>turgenevcy</td>\n",
       "    </tr>\n",
       "    <tr>\n",
       "      <th>987</th>\n",
       "      <td>умереть не умереть пришлый победа нельзя умира...</td>\n",
       "      <td>turgenevcy</td>\n",
       "    </tr>\n",
       "    <tr>\n",
       "      <th>988</th>\n",
       "      <td>сразу побелить стена и через день перебраться ...</td>\n",
       "      <td>turgenevcy</td>\n",
       "    </tr>\n",
       "  </tbody>\n",
       "</table>\n",
       "<p>989 rows × 2 columns</p>\n",
       "</div>"
      ],
      "text/plain": [
       "                                                  text corpus_name\n",
       "0    цвета в мор зло цвета в мор зло роман глава од...     kitaycy\n",
       "1    что с время весь это стереться из память решит...     kitaycy\n",
       "2    жэньсян кивнуть  ещё рано цянить дуаньминь не ...     kitaycy\n",
       "3    паланкин распрощаться с свой собеседник и уеха...     kitaycy\n",
       "4    на что-то рассчитывать цзинь настолько углубит...     kitaycy\n",
       "..                                                 ...         ...\n",
       "984  стараться не раскашляться но напрасно от натуг...  turgenevcy\n",
       "985  что за человек да и письмо-то как следовать на...  turgenevcy\n",
       "986  он но вслух не посметь бы произнести ничто под...  turgenevcy\n",
       "987  умереть не умереть пришлый победа нельзя умира...  turgenevcy\n",
       "988  сразу побелить стена и через день перебраться ...  turgenevcy\n",
       "\n",
       "[989 rows x 2 columns]"
      ]
     },
     "execution_count": 57,
     "metadata": {},
     "output_type": "execute_result"
    }
   ],
   "source": [
    "df_all = pd.concat(df_all_list,ignore_index=True)\n",
    "df_all"
   ]
  },
  {
   "cell_type": "code",
   "execution_count": 58,
   "metadata": {},
   "outputs": [
    {
     "data": {
      "text/plain": [
       "'turgenev'"
      ]
     },
     "execution_count": 58,
     "metadata": {},
     "output_type": "execute_result"
    }
   ],
   "source": [
    "df_all.iloc[499].corpus_name"
   ]
  },
  {
   "cell_type": "code",
   "execution_count": 93,
   "metadata": {},
   "outputs": [],
   "source": [
    "stops = stopwords.words('russian')\n",
    "l = ['это',\n",
    "     'ничто',\n",
    "     'свой',\n",
    "     'дарья',\n",
    "     'михайло',\n",
    "     'марья',\n",
    "     'дмитрий', \n",
    "     'павел', \n",
    "     'варвар',\n",
    "     'павло', \n",
    "     'марфа', \n",
    "     'тимофей',\n",
    "     'пётр', \n",
    "     'валентин',\n",
    "     'александр',\n",
    "     'сергей',\n",
    "     'анна',\n",
    "     'василий',\n",
    "     'артемий',\n",
    "     'иван',\n",
    "     'увар',\n",
    "     'парамон',\n",
    "     'семён',\n",
    "     'татьяна', \n",
    "     'борис',\n",
    "     'пантелей',\n",
    "     'еремей',\n",
    "     'аркадий',\n",
    "     'павлыч',\n",
    "     'фёдор',\n",
    "     'евгений',\n",
    "     'василья',\n",
    "     'арин',\n",
    "     'власий',\n",
    "     'наталья',\n",
    "     'алексей',\n",
    "     'андрей',\n",
    "     'мардарий',\n",
    "     'аполлон',\n",
    "     'вера',\n",
    "     'софья',\n",
    "     'вот',\n",
    "     'вы',\n",
    "     'вэньсюань',\n",
    "     'где',\n",
    "     'господин'\n",
    "     'госпожа',\n",
    "     'гу',\n",
    "     'да',\n",
    "     'давыд',\n",
    "     'даже',\n",
    "     'дасинь',\n",
    "     'ду',\n",
    "     'елена',\n",
    "     'если',\n",
    "     'ещё',\n",
    "     'затем',\n",
    "     'из',\n",
    "     'или',\n",
    "     'который',\n",
    "     'кранц',\n",
    "     'лаврецкий',\n",
    "     'лао',\n",
    "     'ли',\n",
    "     'лишь',\n",
    "     'лу',\n",
    "     'мина',\n",
    "     'мой',\n",
    "     'наверное',\n",
    "     'нежданов',\n",
    "     'ну',\n",
    "     'парамон',\n",
    "     'пора',\n",
    "     'рокуносукэ',\n",
    "     'саша',\n",
    "     'свой',\n",
    "     'семён',\n",
    "     'так',\n",
    "     'тот',\n",
    "     'уж',\n",
    "     'фухать',\n",
    "     'ху',\n",
    "     'цайюня',\n",
    "     'цзинша',\n",
    "     'цзинь',\n",
    "     'цзюе',\n",
    "     'чжоу',\n",
    "     'чтобы',\n",
    "     'чэнь',\n",
    "     'шушэн',\n",
    "     'юйинь',\n",
    "     'ася',\n",
    "     'бабурин',\n",
    "     'базар',\n",
    "     'бао',\n",
    "     'барин',\n",
    "     'барыня',\n",
    "     'батюшка',\n",
    "     'вальдерзый',\n",
    "     'ван',\n",
    "     'ваш',\n",
    "     'весьма',\n",
    "     'воистину',\n",
    "     'вэйцюня',\n",
    "     'вэньцин',\n",
    "     'гао',\n",
    "     'глафира',\n",
    "     'говать',\n",
    "     'господин',\n",
    "     'госпожа',\n",
    "     'госян',\n",
    "     'гун',\n",
    "     'дагэ',\n",
    "     'дантон',\n",
    "     'дасинить',\n",
    "     'дин',\n",
    "     'дуаньминь',\n",
    "     'дэ',\n",
    "     'живить',\n",
    "     'жушевать',\n",
    "     'жэньсян',\n",
    "     'император',\n",
    "     'императрица',\n",
    "     'инсар',\n",
    "     'китай',\n",
    "     'китайский',\n",
    "     'коли',\n",
    "     'кэ',\n",
    "     'лежнев',\n",
    "     'лиза',\n",
    "     'лина',\n",
    "     'лотос',\n",
    "     'луиз',\n",
    "     'лэн',\n",
    "     'маньгэн',\n",
    "     'марианна',\n",
    "     'маркелов',\n",
    "     'мартен',\n",
    "     'машурин',\n",
    "     'мин',\n",
    "     'минь',\n",
    "     'москва',\n",
    "     'мэй',\n",
    "     'наложница',\n",
    "     'николаев',\n",
    "     'николай',\n",
    "     'ню',\n",
    "     'паклина',\n",
    "     'пекин',\n",
    "     'петербург',\n",
    "     'россия',\n",
    "     'рудин',\n",
    "     'русский',\n",
    "     'синить',\n",
    "     'синь',\n",
    "     'сипягин',\n",
    "     'сэйносукэ',\n",
    "     'франц',\n",
    "     'фэн',\n",
    "     'ха',\n",
    "     'хой',\n",
    "     'цзин',\n",
    "     'цюшэ',\n",
    "     'цянить',\n",
    "     'чертопхан',\n",
    "     'чжан',\n",
    "     'чжао',\n",
    "     'чжуан',\n",
    "     'чжун',\n",
    "     'чжэнь',\n",
    "     'чунь',\n",
    "     'шанхай',\n",
    "     'шаня',\n",
    "     'шичэн',\n",
    "     'шу',\n",
    "     'шутянить',\n",
    "     'юань',\n",
    "     'юй',\n",
    "     'юня',\n",
    "     'яков',\n",
    "     'ян',\n",
    "     'яньшаня',\n",
    "     'аня',\n",
    "     'аркадия',\n",
    "     'афу',\n",
    "     'базаров',\n",
    "     'банли',\n",
    "     'берсенев',\n",
    "     'бешковы',\n",
    "     'би',\n",
    "     'бо',\n",
    "     'боцин',\n",
    "     'верста',\n",
    "     'владимир',\n",
    "     'волынцев',\n",
    "     'гагин',\n",
    "     'гуан',\n",
    "     'гуйговать',\n",
    "     'доф',\n",
    "     'евнух',\n",
    "     'ермолай',\n",
    "     'жолань',\n",
    "     'жуй',\n",
    "     'жушуя',\n",
    "     'жэнить',\n",
    "     'западный',\n",
    "     'зинаида',\n",
    "     'изба',\n",
    "     'ин',\n",
    "     'инсаров',\n",
    "     'итая',\n",
    "     'калломеец',\n",
    "     'катя',\n",
    "     'куан',\n",
    "     'лавочник',\n",
    "     'лемма',\n",
    "     'лукерья',\n",
    "     'лю',\n",
    "     'лян',\n",
    "     'ма',\n",
    "     'миньгао',\n",
    "     'михале',\n",
    "     'мол',\n",
    "     'мужик',\n",
    "     'мэя',\n",
    "     'наня',\n",
    "     'одинцов',\n",
    "     'оно',\n",
    "     'пагода',\n",
    "     'паланкин',\n",
    "     'паншин',\n",
    "     'паня',\n",
    "     'партком',\n",
    "     'пастор',\n",
    "     'пигас',\n",
    "     'пин',\n",
    "     'плавка',\n",
    "     'политический',\n",
    "     'провинция',\n",
    "     'пу',\n",
    "     'пунина',\n",
    "     'раис',\n",
    "     'ревком',\n",
    "     'рубль',\n",
    "     'сель',\n",
    "     'словно',\n",
    "     'сю',\n",
    "     'сюань',\n",
    "     'сюй',\n",
    "     'сючжэнь',\n",
    "     'сяо',\n",
    "     'сяосюань',\n",
    "     'тао',\n",
    "     'тун',\n",
    "     'тяньчжэнь',\n",
    "     'фа',\n",
    "     'фан',\n",
    "     'федя',\n",
    "     'фенёчек',\n",
    "     'филофея',\n",
    "     'фу',\n",
    "     'фэнь',\n",
    "     'ханако',\n",
    "     'хорь',\n",
    "     'хоя',\n",
    "     'хуа',\n",
    "     'хуаня',\n",
    "     'хунчжан',\n",
    "     'цао',\n",
    "     'цзы',\n",
    "     'цзэн',\n",
    "     'цзюй',\n",
    "     'цзянь',\n",
    "     'цинь',\n",
    "     'цуй',\n",
    "     'цю',\n",
    "     'цюань',\n",
    "     'цянь',\n",
    "     'чаофэн',\n",
    "     'чжэнить',\n",
    "     'шубин',\n",
    "     'шутянуть',\n",
    "     'шэ',\n",
    "     'шэнь',\n",
    "     'эр',\n",
    "     'юньевать',\n",
    "     'юпэй',\n",
    "     'цзиня',\n",
    "     'ньюшэн',\n",
    "     'маньчжурский',\n",
    "     'династия',\n",
    "     'чжиминь',\n",
    "     'тяньчжэнить',\n",
    "     'хуаньин',\n",
    "     'кокон',\n",
    "     'маньчжур',\n",
    "     'сунь',\n",
    "     'ибяо',\n",
    "     'чжу',\n",
    "     'цин',\n",
    "     'императорский',\n",
    "     'лотосовый',\n",
    "     '1',\n",
    "     '2',\n",
    "     '3',\n",
    "     '4', \n",
    "     '5',\n",
    "     '6',\n",
    "     '7',\n",
    "     '8',\n",
    "     '9',\n",
    "     '0',\n",
    "     'тотчас',\n",
    "     'изволить',\n",
    "     'помиловать',\n",
    "     'остродум',\n",
    "     'барон',\n",
    "     'ах',\n",
    "     'голушкина',\n",
    "     'толковать',\n",
    "     'de',\n",
    "     'помещик',\n",
    "     'имение',\n",
    "     'латкин',\n",
    "     'княгиня',\n",
    "     'егор',\n",
    "     'зоя',\n",
    "     'тарантас',\n",
    "     'пасынкова',\n",
    "     'лакей',\n",
    "     'ситниковый',\n",
    "     'тархов',\n",
    "      '233',\n",
    "      '769',\n",
    "      'айюня',\n",
    "      'беспрестанно',\n",
    "      'бин',\n",
    "      'бог',\n",
    "      'величество',\n",
    "      'вон',\n",
    "      'ворот',\n",
    "      'восточный',\n",
    "      'вэнь',\n",
    "      'господь',\n",
    "      'государыня',\n",
    "      'дворянин',\n",
    "      'динж',\n",
    "      'жэньминь',\n",
    "      'знаменный',\n",
    "      'ми',\n",
    "      'министр',\n",
    "      'мул',\n",
    "      'носильщик',\n",
    "      'нуть',\n",
    "      'робеспьер',\n",
    "      'сановник',\n",
    "      'ся',\n",
    "      'хуан',\n",
    "      'хэ',\n",
    "      'цзи',\n",
    "      'цзицзэн',\n",
    "      'ци',\n",
    "      'цюня',\n",
    "      'чжидун',\n",
    "      'чиновник',\n",
    "      'чэн',\n",
    "      'этак',\n",
    "      '81',\n",
    "      '958',\n",
    "      '195',\n",
    "      'iii',\n",
    "      'lle',\n",
    "      'boncourt',\n",
    "      'ma',\n",
    "      'mon',\n",
    "      'cher',\n",
    "      'адель',\n",
    "      'амахиро',\n",
    "      'тацухака',\n",
    "      'босяо',\n",
    "      'бригада',\n",
    "      'буддийский',\n",
    "      'бэй',\n",
    "      'юцзэн',\n",
    "      'го',\n",
    "      'гуана',\n",
    "      'чжаотина',\n",
    "      'гуй',\n",
    "      'лань',\n",
    "      'дуаня',\n",
    "      'хуцяо',\n",
    "      'ито',\n",
    "      'хиробуметь',\n",
    "      'канцлер',\n",
    "      'янцзао',\n",
    "      'коммуна',\n",
    "      'кулачка',\n",
    "      'малек',\n",
    "      'аделить',\n",
    "      'мартеновский',\n",
    "      'цех',\n",
    "      'матвей',\n",
    "      'илья',\n",
    "      'милостивый',\n",
    "      'государь',\n",
    "      'мсьё',\n",
    "      'вольдемар',\n",
    "      'мэн',\n",
    "      'ди',\n",
    "      'налоговый',\n",
    "      'инспектор',\n",
    "      'настасея',\n",
    "      'настасей',\n",
    "      'настасья',\n",
    "      'карп',\n",
    "      'нея',\n",
    "      'се',\n",
    "      'цзеф',\n",
    "      'секретарь',\n",
    "      'партбюро',\n",
    "      'си',\n",
    "      'линьчунь',\n",
    "      'смена',\n",
    "      'советский',\n",
    "      'соевый',\n",
    "      'сюнь',\n",
    "      'чуньчж',\n",
    "      'сюэ',\n",
    "      'фужэнь',\n",
    "      'тётушка',\n",
    "      'бай',\n",
    "      'тан',\n",
    "      'тина',\n",
    "      'товарищ',\n",
    "      'директор',\n",
    "      'секретарь',\n",
    "      'хай',\n",
    "      'чэнить',\n",
    "      'хаять',\n",
    "      'чэнить',\n",
    "      'цзян',\n",
    "      'бяо',\n",
    "      'цунь',\n",
    "      'жэня',\n",
    "      'чу',\n",
    "      'айлинь',\n",
    "      'хуань',\n",
    "      'китаец',\n",
    "      'михалыч',\n",
    "      'скорпион',\n",
    "      'небесный',\n",
    "      'дар',\n",
    "      '8195',\n",
    "      'наш',\n",
    "      'весь']\n",
    "stops.extend(l)"
   ]
  },
  {
   "cell_type": "code",
   "execution_count": 110,
   "metadata": {},
   "outputs": [],
   "source": [
    "vectorizer = CountVectorizer(stop_words = stops, max_df = 0.9)"
   ]
  },
  {
   "cell_type": "code",
   "execution_count": 153,
   "metadata": {},
   "outputs": [
    {
     "data": {
      "text/plain": [
       "TfidfVectorizer(analyzer='word', binary=False, decode_error='strict',\n",
       "                dtype=<class 'numpy.float64'>, encoding='utf-8',\n",
       "                input='content', lowercase=True, max_df=1.0, max_features=None,\n",
       "                min_df=1, ngram_range=(2, 2), norm='l2', preprocessor=None,\n",
       "                smooth_idf=True,\n",
       "                stop_words=['и', 'в', 'во', 'не', 'что', 'он', 'на', 'я', 'с',\n",
       "                            'со', 'как', 'а', 'то', 'все', 'она', 'так', 'его',\n",
       "                            'но', 'да', 'ты', 'к', 'у', 'же', 'вы', 'за', 'бы',\n",
       "                            'по', 'только', 'ее', 'мне', ...],\n",
       "                strip_accents=None, sublinear_tf=False,\n",
       "                token_pattern='(?u)\\\\b\\\\w\\\\w+\\\\b', tokenizer=None, use_idf=True,\n",
       "                vocabulary=None)"
      ]
     },
     "execution_count": 153,
     "metadata": {},
     "output_type": "execute_result"
    }
   ],
   "source": [
    "vectorizer = TfidfVectorizer(stop_words = stops, ngram_range = (2,2))\n",
    "vectorizer"
   ]
  },
  {
   "cell_type": "code",
   "execution_count": 154,
   "metadata": {},
   "outputs": [
    {
     "name": "stderr",
     "output_type": "stream",
     "text": [
      "c:\\users\\sidor\\appdata\\local\\programs\\python\\python37\\lib\\site-packages\\sklearn\\linear_model\\logistic.py:432: FutureWarning: Default solver will be changed to 'lbfgs' in 0.22. Specify a solver to silence this warning.\n",
      "  FutureWarning)\n",
      "c:\\users\\sidor\\appdata\\local\\programs\\python\\python37\\lib\\site-packages\\sklearn\\linear_model\\logistic.py:469: FutureWarning: Default multi_class will be changed to 'auto' in 0.22. Specify the multi_class option to silence this warning.\n",
      "  \"this warning.\", FutureWarning)\n"
     ]
    },
    {
     "data": {
      "text/plain": [
       "LogisticRegression(C=1.0, class_weight=None, dual=False, fit_intercept=True,\n",
       "                   intercept_scaling=1, l1_ratio=None, max_iter=100,\n",
       "                   multi_class='warn', n_jobs=None, penalty='l2',\n",
       "                   random_state=None, solver='warn', tol=0.0001, verbose=0,\n",
       "                   warm_start=False)"
      ]
     },
     "execution_count": 154,
     "metadata": {},
     "output_type": "execute_result"
    }
   ],
   "source": [
    "bow = vectorizer.fit_transform(df_all.text)\n",
    "X_train, X_test, y_train, y_test = train_test_split(bow, df_all.corpus_name)\n",
    "clf = LogisticRegression()\n",
    "clf.fit(X_train, y_train)"
   ]
  },
  {
   "cell_type": "code",
   "execution_count": 155,
   "metadata": {},
   "outputs": [
    {
     "name": "stdout",
     "output_type": "stream",
     "text": [
      "              precision    recall  f1-score   support\n",
      "\n",
      "     kitaycy       1.00      0.06      0.11        72\n",
      "    turgenev       1.00      0.46      0.63        84\n",
      "  turgenevcy       0.45      1.00      0.62        92\n",
      "\n",
      "    accuracy                           0.54       248\n",
      "   macro avg       0.82      0.51      0.45       248\n",
      "weighted avg       0.80      0.54      0.48       248\n",
      "\n"
     ]
    }
   ],
   "source": [
    "print(classification_report(y_test, clf.predict(X_test)))"
   ]
  },
  {
   "cell_type": "code",
   "execution_count": 156,
   "metadata": {},
   "outputs": [
    {
     "data": {
      "text/plain": [
       "array([[ 0.        , -0.00868216,  0.03805465, ..., -0.02321921,\n",
       "        -0.00875656, -0.00833816],\n",
       "       [ 0.        , -0.00963799, -0.01756653, ...,  0.05323191,\n",
       "         0.0198374 , -0.00937851],\n",
       "       [ 0.        ,  0.0178615 , -0.01996012, ..., -0.03029308,\n",
       "        -0.01120433,  0.01733996]])"
      ]
     },
     "execution_count": 156,
     "metadata": {},
     "output_type": "execute_result"
    }
   ],
   "source": [
    "clf.coef_"
   ]
  },
  {
   "cell_type": "code",
   "execution_count": 157,
   "metadata": {},
   "outputs": [
    {
     "data": {
      "text/plain": [
       "(3, 564662)"
      ]
     },
     "execution_count": 157,
     "metadata": {},
     "output_type": "execute_result"
    }
   ],
   "source": [
    "clf.coef_.shape"
   ]
  },
  {
   "cell_type": "code",
   "execution_count": 158,
   "metadata": {},
   "outputs": [
    {
     "data": {
      "text/plain": [
       "1.276841098370517"
      ]
     },
     "execution_count": 158,
     "metadata": {},
     "output_type": "execute_result"
    }
   ],
   "source": [
    "max(clf.coef_[0])"
   ]
  },
  {
   "cell_type": "code",
   "execution_count": 159,
   "metadata": {},
   "outputs": [
    {
     "data": {
      "text/plain": [
       "0.4501513421097884"
      ]
     },
     "execution_count": 159,
     "metadata": {},
     "output_type": "execute_result"
    }
   ],
   "source": [
    "max(clf.coef_[1])"
   ]
  },
  {
   "cell_type": "code",
   "execution_count": 160,
   "metadata": {},
   "outputs": [
    {
     "data": {
      "text/plain": [
       "0.6738327575214943"
      ]
     },
     "execution_count": 160,
     "metadata": {},
     "output_type": "execute_result"
    }
   ],
   "source": [
    "max(clf.coef_[2])"
   ]
  },
  {
   "cell_type": "code",
   "execution_count": 161,
   "metadata": {},
   "outputs": [
    {
     "data": {
      "text/plain": [
       "(472746, 0.6738327575214943)"
      ]
     },
     "execution_count": 161,
     "metadata": {},
     "output_type": "execute_result"
    }
   ],
   "source": [
    "max(enumerate(clf.coef_[2]), key=lambda pair: pair[1])"
   ]
  },
  {
   "cell_type": "code",
   "execution_count": 162,
   "metadata": {},
   "outputs": [],
   "source": [
    "index_to_word = {\n",
    "    ind: word\n",
    "    for (word, ind)\n",
    "    in vectorizer.vocabulary_.items()\n",
    "    }"
   ]
  },
  {
   "cell_type": "code",
   "execution_count": 163,
   "metadata": {},
   "outputs": [
    {
     "data": {
      "text/plain": [
       "'взять очень'"
      ]
     },
     "execution_count": 163,
     "metadata": {},
     "output_type": "execute_result"
    }
   ],
   "source": [
    "index_to_word[38531]"
   ]
  },
  {
   "cell_type": "code",
   "execution_count": 164,
   "metadata": {},
   "outputs": [
    {
     "data": {
      "text/plain": [
       "(330954, -0.29213826665921167)"
      ]
     },
     "execution_count": 164,
     "metadata": {},
     "output_type": "execute_result"
    }
   ],
   "source": [
    "min(enumerate(clf.coef_[0]), key=lambda pair: pair[1])"
   ]
  },
  {
   "cell_type": "code",
   "execution_count": 165,
   "metadata": {},
   "outputs": [
    {
     "data": {
      "text/plain": [
       "'взять очень'"
      ]
     },
     "execution_count": 165,
     "metadata": {},
     "output_type": "execute_result"
    }
   ],
   "source": [
    "index_to_word[38531]"
   ]
  },
  {
   "cell_type": "code",
   "execution_count": 166,
   "metadata": {
    "scrolled": true
   },
   "outputs": [
    {
     "name": "stdout",
     "output_type": "stream",
     "text": [
      "человек кошка\n",
      "дурманный лист\n",
      "рабочий группа\n",
      "кадровый работник\n",
      "диктатор север\n",
      "кошачий государство\n",
      "генерал губернатор\n",
      "классовый борьба\n",
      "висячий башня\n",
      "самый дело\n"
     ]
    }
   ],
   "source": [
    "top_features = sorted(enumerate(clf.coef_[0]), key=lambda pair: pair[1], reverse=True)[:10]\n",
    "for index, value in top_features:\n",
    "  print(index_to_word[index])\n",
    "#Китайцы"
   ]
  },
  {
   "cell_type": "code",
   "execution_count": 167,
   "metadata": {},
   "outputs": [
    {
     "name": "stdout",
     "output_type": "stream",
     "text": [
      "оба рука\n",
      "молодая человек\n",
      "крайний мера\n",
      "сквозь зуб\n",
      "высокий рост\n",
      "несколько мгновение\n",
      "самый день\n",
      "больший частью\n",
      "небольшой молчание\n",
      "прощать прощать\n"
     ]
    }
   ],
   "source": [
    "top_features = sorted(enumerate(clf.coef_[1]), key=lambda pair: pair[1], reverse=True)[:10]\n",
    "for index, value in top_features:\n",
    "  print(index_to_word[index])\n",
    "#конечно, слов в каждом корпусе, которые отражают характер автора, эпохи, повествования, даже с макс_дф = 0.1 предостаточно,\n",
    "#поэтому, каунт векторайзер здесь совсем не подходит, то же и про униграммы в Тфидф\n",
    "#биграммы тфидф уже гораздо интересенее. встречается у тургенева сочетание прилагательное +\"человек\", а у тургеневцев + \"борьба\"\n",
    "#Тургенев"
   ]
  },
  {
   "cell_type": "code",
   "execution_count": 168,
   "metadata": {},
   "outputs": [
    {
     "name": "stdout",
     "output_type": "stream",
     "text": [
      "старший брат\n",
      "опустить голова\n",
      "покачать голова\n",
      "поднять голова\n",
      "голос звучать\n",
      "письменный стол\n",
      "отделение союз\n",
      "критика борьба\n",
      "последний время\n",
      "год назад\n"
     ]
    }
   ],
   "source": [
    "top_features = sorted(enumerate(clf.coef_[2]), key=lambda pair: pair[1], reverse=True)[:10]\n",
    "for index, value in top_features:\n",
    "  print(index_to_word[index])\n",
    "#Тургеневцы"
   ]
  },
  {
   "cell_type": "code",
   "execution_count": null,
   "metadata": {},
   "outputs": [],
   "source": []
  },
  {
   "cell_type": "code",
   "execution_count": null,
   "metadata": {},
   "outputs": [],
   "source": []
  },
  {
   "cell_type": "code",
   "execution_count": null,
   "metadata": {},
   "outputs": [],
   "source": []
  }
 ],
 "metadata": {
  "kernelspec": {
   "display_name": "Python 3",
   "language": "python",
   "name": "python3"
  },
  "language_info": {
   "codemirror_mode": {
    "name": "ipython",
    "version": 3
   },
   "file_extension": ".py",
   "mimetype": "text/x-python",
   "name": "python",
   "nbconvert_exporter": "python",
   "pygments_lexer": "ipython3",
   "version": "3.7.4"
  }
 },
 "nbformat": 4,
 "nbformat_minor": 2
}
